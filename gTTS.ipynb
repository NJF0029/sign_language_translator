{
 "cells": [
  {
   "cell_type": "code",
   "execution_count": 1,
   "id": "90f0111e",
   "metadata": {},
   "outputs": [],
   "source": [
    "from gtts import gTTS\n",
    "from io import BytesIO\n",
    "from IPython.display import Audio\n",
    "#don't forget to add gTTS to requirement.txt"
   ]
  },
  {
   "cell_type": "code",
   "execution_count": 2,
   "id": "c4e893cd",
   "metadata": {},
   "outputs": [],
   "source": [
    "def speak(str):\n",
    "    audio = gTTS(str, lang='en', tld='com.au')\n",
    "    filename = \"voice.mp3\"\n",
    "    audio.save(filename)\n",
    "    return filename"
   ]
  },
  {
   "cell_type": "code",
   "execution_count": 3,
   "id": "a3f8b358",
   "metadata": {},
   "outputs": [
    {
     "data": {
      "text/html": [
       "\n",
       "                <audio  controls=\"controls\" >\n",
       "                    <source src=\"data:audio/mpeg;base64,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\" type=\"audio/mpeg\" />\n",
       "                    Your browser does not support the audio element.\n",
       "                </audio>\n",
       "              "
      ],
      "text/plain": [
       "<IPython.lib.display.Audio object>"
      ]
     },
     "execution_count": 3,
     "metadata": {},
     "output_type": "execute_result"
    }
   ],
   "source": [
    "words = speak(\"oh naur, cleo!\")\n",
    "Audio(words)"
   ]
  },
  {
   "cell_type": "code",
   "execution_count": 4,
   "id": "af8df3a8",
   "metadata": {},
   "outputs": [],
   "source": [
    "#Audio('why.mp3')"
   ]
  },
  {
   "cell_type": "code",
   "execution_count": 5,
   "id": "1860d39c",
   "metadata": {},
   "outputs": [],
   "source": [
    "#tts.write_to_fp(mp3_fp)\n",
    "# Load `mp3_fp` as an mp3 file in\n",
    "# the audio library of your choice"
   ]
  },
  {
   "cell_type": "code",
   "execution_count": 6,
   "id": "0f8a6638",
   "metadata": {},
   "outputs": [],
   "source": [
    "#def text_to_audio(str):\n",
    " #   audio = gTTS(str)\n",
    "  #  audio.save('letter.mp3')\n",
    "#text_to_audio('Hello my name is ...')\n",
    "#playsound('letter.mp3')"
   ]
  },
  {
   "cell_type": "code",
   "execution_count": 7,
   "id": "1c686c8b",
   "metadata": {},
   "outputs": [],
   "source": [
    "#!gtts-cli 'hello' --output hello.mp3"
   ]
  },
  {
   "cell_type": "code",
   "execution_count": 8,
   "id": "3b821645",
   "metadata": {},
   "outputs": [],
   "source": [
    "#!pip install musicplayer"
   ]
  }
 ],
 "metadata": {
  "kernelspec": {
   "display_name": "Python 3 (ipykernel)",
   "language": "python",
   "name": "python3"
  },
  "language_info": {
   "codemirror_mode": {
    "name": "ipython",
    "version": 3
   },
   "file_extension": ".py",
   "mimetype": "text/x-python",
   "name": "python",
   "nbconvert_exporter": "python",
   "pygments_lexer": "ipython3",
   "version": "3.10.6"
  },
  "toc": {
   "base_numbering": 1,
   "nav_menu": {},
   "number_sections": true,
   "sideBar": true,
   "skip_h1_title": false,
   "title_cell": "Table of Contents",
   "title_sidebar": "Contents",
   "toc_cell": false,
   "toc_position": {},
   "toc_section_display": true,
   "toc_window_display": false
  }
 },
 "nbformat": 4,
 "nbformat_minor": 5
}
